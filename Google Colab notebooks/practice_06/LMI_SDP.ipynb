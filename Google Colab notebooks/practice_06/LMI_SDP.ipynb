{
  "nbformat": 4,
  "nbformat_minor": 0,
  "metadata": {
    "colab": {
      "name": "LMI_SDP.ipynb",
      "provenance": [],
      "collapsed_sections": [],
      "include_colab_link": true
    },
    "kernelspec": {
      "name": "python3",
      "display_name": "Python 3"
    }
  },
  "cells": [
    {
      "cell_type": "markdown",
      "metadata": {
        "id": "view-in-github",
        "colab_type": "text"
      },
      "source": [
        "<a href=\"https://colab.research.google.com/github/SergeiSa/Computational-Intelligence-Slides-Fall-2020/blob/master/Google%20Colab%20notebooks/practice_06/LMI_SDP.ipynb\" target=\"_parent\"><img src=\"https://colab.research.google.com/assets/colab-badge.svg\" alt=\"Open In Colab\"/></a>"
      ]
    },
    {
      "cell_type": "code",
      "metadata": {
        "id": "PRCBHpGFd95A",
        "colab": {
          "base_uri": "https://localhost:8080/",
          "height": 170
        },
        "outputId": "1ff74e7d-4664-4d56-e3b3-d6245a09f930"
      },
      "source": [
        "!pip install cvxpy"
      ],
      "execution_count": null,
      "outputs": [
        {
          "output_type": "stream",
          "text": [
            "Requirement already satisfied: cvxpy in /usr/local/lib/python3.6/dist-packages (1.0.31)\n",
            "Requirement already satisfied: scs>=1.1.3 in /usr/local/lib/python3.6/dist-packages (from cvxpy) (2.1.2)\n",
            "Requirement already satisfied: scipy>=1.1.0 in /usr/local/lib/python3.6/dist-packages (from cvxpy) (1.4.1)\n",
            "Requirement already satisfied: osqp>=0.4.1 in /usr/local/lib/python3.6/dist-packages (from cvxpy) (0.6.1)\n",
            "Requirement already satisfied: numpy>=1.15 in /usr/local/lib/python3.6/dist-packages (from cvxpy) (1.18.5)\n",
            "Requirement already satisfied: ecos>=2 in /usr/local/lib/python3.6/dist-packages (from cvxpy) (2.0.7.post1)\n",
            "Requirement already satisfied: multiprocess in /usr/local/lib/python3.6/dist-packages (from cvxpy) (0.70.10)\n",
            "Requirement already satisfied: future in /usr/local/lib/python3.6/dist-packages (from osqp>=0.4.1->cvxpy) (0.16.0)\n",
            "Requirement already satisfied: dill>=0.3.2 in /usr/local/lib/python3.6/dist-packages (from multiprocess->cvxpy) (0.3.2)\n"
          ],
          "name": "stdout"
        }
      ]
    },
    {
      "cell_type": "code",
      "metadata": {
        "id": "zHc6vlrwWU2Y"
      },
      "source": [
        "import cvxpy as cp\n",
        "import numpy as np\n",
        "import scipy as sc"
      ],
      "execution_count": null,
      "outputs": []
    },
    {
      "cell_type": "code",
      "metadata": {
        "id": "yjf1jzzHOI80",
        "colab": {
          "base_uri": "https://localhost:8080/",
          "height": 134
        },
        "outputId": "c8ac59c7-f036-471c-e3af-eaab1c6b0dfb"
      },
      "source": [
        "# Construct the problem.\n",
        "n = 3\n",
        "\n",
        "A = np.random.randn(n,n) - 10*np.eye(n)\n",
        "Q = np.eye(n)\n",
        "\n",
        "P = cp.Variable((n,n))\n",
        "# Q =\n",
        "objective = cp.Minimize(0)\n",
        "constraints = [P >> 0,\n",
        "               P.T == P, \n",
        "               A.T@P + P@A + Q <<0]\n",
        "\n",
        "prob = cp.Problem(objective, constraints)\n",
        "\n",
        "# The optimal objective value is returned by `prob.solve()`.\n",
        "prob.solve()\n",
        "if prob.status is 'infeasible':\n",
        "    print('System is unstable')\n",
        "else:\n",
        "    # print(\"Problem status:\", prob.status)\n",
        "    print(\"Objective value:\", prob.value)\n",
        "    print(P.value)\n",
        "    print('System is stable')\n",
        "\n",
        "w, v = np.linalg.eig(A)\n",
        "print('Eigen values are:')\n",
        "print(w)"
      ],
      "execution_count": null,
      "outputs": [
        {
          "output_type": "stream",
          "text": [
            "Objective value: 0.0\n",
            "[[ 0.10982602 -0.00121037 -0.00497226]\n",
            " [-0.00121037  0.09148092 -0.00741401]\n",
            " [-0.00497226 -0.00741401  0.08306554]]\n",
            "System is stable\n",
            "Eigen values are:\n",
            "[ -7.39147068  -9.82193743 -11.8324466 ]\n"
          ],
          "name": "stdout"
        }
      ]
    },
    {
      "cell_type": "code",
      "metadata": {
        "id": "iEjXMABvl7RF",
        "colab": {
          "base_uri": "https://localhost:8080/",
          "height": 332
        },
        "outputId": "30c4c4ec-fe0f-438b-8b27-944d8ccfd8c6"
      },
      "source": [
        "n = 4\n",
        "m = 3\n",
        "A = np.random.randn(n,n)\n",
        "B = np.random.randn(n,m) \n",
        "Q = np.eye(n)\n",
        "\n",
        "# Construct the problem.\n",
        "P = cp.Variable((n,n))\n",
        "Z = cp.Variable((m,n))\n",
        "\n",
        "objective = cp.Minimize(0)\n",
        "constraints = [P >> 0, \n",
        "               A@P + P@A.T + B@Z + Z.T @ B.T + Q<<0]\n",
        "\n",
        "prob = cp.Problem(objective, constraints)\n",
        "\n",
        "# The optimal objective value is returned by `prob.solve()`.\n",
        "prob.solve()\n",
        "print(prob.status)\n",
        "\n",
        "K = Z.value@ np.linalg.inv(P.value)\n",
        "\n",
        "\n",
        "w, v = np.linalg.eig(A + B@K)\n",
        "\n",
        "print(f'Eigen values: {w}')\n",
        "\n",
        "def sys(x, t):\n",
        "    dx = (A + B@K)@x\n",
        "    return dx\n",
        "\n",
        "t = np.linspace(0, 10, 100)\n",
        "x0 = np.random.rand(n)\n",
        "import scipy.integrate as integrator \n",
        "x_sol = integrator.odeint(sys,x0, t)\n",
        "\n",
        "\n",
        "import matplotlib.pyplot as plt\n",
        "\n",
        "plt.plot(t, x_sol)\n",
        "plt.show()\n"
      ],
      "execution_count": null,
      "outputs": [
        {
          "output_type": "stream",
          "text": [
            "WARN: m less than n, problem likely degenerate\n",
            "optimal\n",
            "Eigen values: [-2.51768147e+03+0.j        -5.58759904e+02+0.j\n",
            " -1.37691797e+00+1.8992778j -1.37691797e+00-1.8992778j]\n"
          ],
          "name": "stdout"
        },
        {
          "output_type": "display_data",
          "data": {
            "image/png": "[encoded data removed]",
            "text/plain": [
              "<Figure size 432x288 with 1 Axes>"
            ]
          },
          "metadata": {
            "tags": [],
            "needs_background": "light"
          }
        }
      ]
    }
  ]
}