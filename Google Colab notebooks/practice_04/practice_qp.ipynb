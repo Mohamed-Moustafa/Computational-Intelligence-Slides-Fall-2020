{
  "nbformat": 4,
  "nbformat_minor": 0,
  "metadata": {
    "colab": {
      "name": "practice_qp.ipynb",
      "provenance": [],
      "collapsed_sections": [],
      "include_colab_link": true
    },
    "kernelspec": {
      "name": "python3",
      "display_name": "Python 3"
    }
  },
  "cells": [
    {
      "cell_type": "markdown",
      "metadata": {
        "id": "view-in-github",
        "colab_type": "text"
      },
      "source": [
        "<a href=\"https://colab.research.google.com/github/SergeiSa/Computational-Intelligence-Slides-Fall-2020/blob/master/Google%20Colab%20notebooks/practice_04/practice_qp.ipynb\" target=\"_parent\"><img src=\"https://colab.research.google.com/assets/colab-badge.svg\" alt=\"Open In Colab\"/></a>"
      ]
    },
    {
      "cell_type": "code",
      "metadata": {
        "id": "67uw1NIBZLJK",
        "colab": {
          "base_uri": "https://localhost:8080/",
          "height": 187
        },
        "outputId": "622102b2-820d-474a-9c88-ea1cf4c26d0a"
      },
      "source": [
        "!pip install quadprog\n",
        "\n",
        "from quadprog import solve_qp\n",
        "from numpy import vstack, hstack \n",
        "\n",
        "def get_qp(P, q, G=None, h=None, A=None, b=None):\n",
        "    \"\"\" minimize: x.T*H*x + q.T*x \n",
        "             s.t: G*x <= h\n",
        "                  A*x == b \"\"\"\n",
        "    qp_G = .5 * (P + P.T)   # make sure P is symmetric\n",
        "    qp_a = -q\n",
        "    if A is not None: # Both equality and inequality constraints\n",
        "        qp_C = - vstack([A, G]).T\n",
        "        qp_b = - hstack([b, h])\n",
        "        meq = A.shape[0]\n",
        "    else:  # no equality constraint\n",
        "        qp_C = -G.T\n",
        "        qp_b = -h\n",
        "        meq = 0\n",
        "    return solve_qp(qp_G, qp_a, qp_C, qp_b, meq)[0]"
      ],
      "execution_count": null,
      "outputs": [
        {
          "output_type": "stream",
          "text": [
            "Collecting quadprog\n",
            "  Downloading https://files.pythonhosted.org/packages/5a/f0/d4c8866f5d14dfa1a441439f5ce0d2680844651772129c431e78caadfe10/quadprog-0.1.7.tar.gz\n",
            "Requirement already satisfied: Cython in /usr/local/lib/python3.6/dist-packages (from quadprog) (0.29.21)\n",
            "Building wheels for collected packages: quadprog\n",
            "  Building wheel for quadprog (setup.py) ... \u001b[?25l\u001b[?25hdone\n",
            "  Created wheel for quadprog: filename=quadprog-0.1.7-cp36-cp36m-linux_x86_64.whl size=299401 sha256=e54538bc774d7b15fb429318b2650bfcd2c4748f630db52f33e13f84064337dd\n",
            "  Stored in directory: /root/.cache/pip/wheels/36/dd/b1/849989444c0a5930927b260663019b7da6cff864fc224c2747\n",
            "Successfully built quadprog\n",
            "Installing collected packages: quadprog\n",
            "Successfully installed quadprog-0.1.7\n"
          ],
          "name": "stdout"
        }
      ]
    },
    {
      "cell_type": "code",
      "metadata": {
        "id": "nN4r2f7B5wYF",
        "colab": {
          "base_uri": "https://localhost:8080/",
          "height": 34
        },
        "outputId": "a787e77a-a008-4628-ecf3-1551c063abd6"
      },
      "source": [
        "from numpy import array, dot\n",
        "M = array([[1., 2., 0.], [-8., 3., 2.], [0., 1., 1.]])\n",
        "P = dot(M.T, M)\n",
        "q = -dot(M.T, array([3., 2., 3.]))\n",
        "G = array([[1., 2., 1.], [2., 0., 1.], [-1., 2., -1.]])\n",
        "h = array([3., 2., -2.]).reshape((3,))\n",
        "\n",
        "get_qp(P, q, G, h)"
      ],
      "execution_count": null,
      "outputs": [
        {
          "output_type": "execute_result",
          "data": {
            "text/plain": [
              "array([ 0.12997347, -0.06498674,  1.74005305])"
            ]
          },
          "metadata": {
            "tags": []
          },
          "execution_count": 3
        }
      ]
    },
    {
      "cell_type": "code",
      "metadata": {
        "id": "bc3Z174v7Pac",
        "colab": {
          "base_uri": "https://localhost:8080/",
          "height": 265
        },
        "outputId": "b87f4b34-c37b-43ab-87b6-3c63c4954cff"
      },
      "source": [
        "from numpy import eye,zeros, kron, ones, diag, sum, cumsum\n",
        "N = 8\n",
        "x0, x1, xf, yf = 0.5, 0.7, 1.5, -0.2\n",
        "\n",
        "\n",
        "\"\"\" minimize: dr.T*H*dr + q.T*dr \n",
        "         s.t: G*dr <= h\n",
        "              A*dr == b \"\"\"\n",
        "\n",
        "\n",
        "G, h = zeros((2*N,2*N)), zeros((2*N))  \n",
        "G[:N, :] = -kron(eye(N), [1,0])\n",
        "G[N:N + int(N/2), :] =  - kron(eye(int(N/2)), [0,1,0,0])\n",
        "h[N:N + int(N/2)] = -0.1*ones(4)\n",
        "G[N + int(N/2):2*N, :] = kron(eye(int(N/2)), [0,0,0,1])\n",
        "h[N + int(N/2):2*N] = 0.1*ones(4)\n",
        "A , b = zeros((3,2*N)), zeros(3)\n",
        "A[:2,:] = kron(ones(N),eye(2))\n",
        "b[:2] = [xf, yf]\n",
        "A[2,:4*2] = kron(ones(4),[1,0])\n",
        "b[2] = (x1+x0)/2\n",
        "\n",
        "R = diag([1,2])\n",
        "H = kron(eye(N),R)\n",
        "q = zeros(2*N)\n",
        "dr = get_qp(H,q,G,h,A,b).reshape((N,2))\n",
        "\n",
        "r = cumsum(dr,axis=0)\n",
        "import matplotlib.pyplot as plt\n",
        "\n",
        "plt.scatter(r[:,0],r[:,1])\n",
        "plt.vlines((x0+x1)/2, min(r[:,1]),max(r[:,1]))\n",
        "plt.scatter(xf,yf, color = 'red')\n",
        "plt.show()\n",
        "\n"
      ],
      "execution_count": null,
      "outputs": [
        {
          "output_type": "display_data",
          "data": {
            "image/png": "[encoded data removed]",
            "text/plain": [
              "<Figure size 432x288 with 1 Axes>"
            ]
          },
          "metadata": {
            "tags": [],
            "needs_background": "light"
          }
        }
      ]
    }
  ]
}